{
 "cells": [
  {
   "cell_type": "markdown",
   "id": "37911689",
   "metadata": {},
   "source": [
    "### Conditional Statement"
   ]
  },
  {
   "cell_type": "code",
   "execution_count": 1,
   "id": "979c03b8",
   "metadata": {},
   "outputs": [
    {
     "name": "stdout",
     "output_type": "stream",
     "text": [
      "True\n"
     ]
    }
   ],
   "source": [
    "x=10\n",
    "y=12\n",
    "#if x is greater than y\n",
    "if x>y:\n",
    "    print(x>y)\n",
    "#if x is lesser than y\n",
    "elif x<y:\n",
    "    print(x<y)\n",
    "else:\n",
    "    print(x=y)"
   ]
  },
  {
   "cell_type": "code",
   "execution_count": 2,
   "id": "c575bda0",
   "metadata": {},
   "outputs": [
    {
     "name": "stdout",
     "output_type": "stream",
     "text": [
      "False\n"
     ]
    }
   ],
   "source": [
    "x=5\n",
    "#True if x is more than 10 or assign false using ternary operation\n",
    "isgreater =True if x>10 else False\n",
    "print(isgreater)"
   ]
  },
  {
   "cell_type": "markdown",
   "id": "633a2fdb",
   "metadata": {},
   "source": [
    "#### Generating Sequence Numbers"
   ]
  },
  {
   "cell_type": "code",
   "execution_count": 3,
   "id": "a250dfbe",
   "metadata": {},
   "outputs": [
    {
     "data": {
      "text/plain": [
       "range(1, 6)"
      ]
     },
     "execution_count": 3,
     "metadata": {},
     "output_type": "execute_result"
    }
   ],
   "source": [
    "#Initializing the sequence of number starting from 1\n",
    "#and ending (not including )with 6\n",
    "numbers=range(1,6)\n",
    "numbers"
   ]
  },
  {
   "cell_type": "markdown",
   "id": "00ba50a2",
   "metadata": {},
   "source": [
    "### Control Flow Statement"
   ]
  },
  {
   "cell_type": "code",
   "execution_count": 4,
   "id": "3d7ca863",
   "metadata": {},
   "outputs": [
    {
     "name": "stdout",
     "output_type": "stream",
     "text": [
      "1\n",
      "2\n",
      "3\n",
      "4\n",
      "5\n"
     ]
    }
   ],
   "source": [
    "#Interate through the collection\n",
    "for i in numbers:\n",
    "    print(i)"
   ]
  },
  {
   "cell_type": "markdown",
   "id": "8d154174",
   "metadata": {},
   "source": [
    "### Function:"
   ]
  },
  {
   "cell_type": "code",
   "execution_count": 5,
   "id": "493c8a0b",
   "metadata": {},
   "outputs": [
    {
     "data": {
      "text/plain": [
       "5"
      ]
     },
     "execution_count": 5,
     "metadata": {},
     "output_type": "execute_result"
    }
   ],
   "source": [
    "def addelement(a,b):\n",
    "    return a+b\n",
    "result=addelement(2,3)\n",
    "result"
   ]
  },
  {
   "cell_type": "code",
   "execution_count": 6,
   "id": "a7a28ade",
   "metadata": {},
   "outputs": [
    {
     "data": {
      "text/plain": [
       "6.8"
      ]
     },
     "execution_count": 6,
     "metadata": {},
     "output_type": "execute_result"
    }
   ],
   "source": [
    "result=addelement(2.3,4.5)\n",
    "result"
   ]
  },
  {
   "cell_type": "code",
   "execution_count": 7,
   "id": "f8f1f9d9",
   "metadata": {},
   "outputs": [
    {
     "data": {
      "text/plain": [
       "'Pythonworkshop'"
      ]
     },
     "execution_count": 7,
     "metadata": {},
     "output_type": "execute_result"
    }
   ],
   "source": [
    "result=addelement('Python','workshop')\n",
    "result"
   ]
  },
  {
   "cell_type": "code",
   "execution_count": 8,
   "id": "a2cd0d1c",
   "metadata": {},
   "outputs": [
    {
     "data": {
      "text/plain": [
       "9"
      ]
     },
     "execution_count": 8,
     "metadata": {},
     "output_type": "execute_result"
    }
   ],
   "source": [
    "addelement(4,5)"
   ]
  },
  {
   "cell_type": "markdown",
   "id": "84e61105",
   "metadata": {},
   "source": [
    "### working with Collection"
   ]
  },
  {
   "cell_type": "code",
   "execution_count": 9,
   "id": "78023560",
   "metadata": {},
   "outputs": [],
   "source": [
    "#Create a empty list\n",
    "emptylist=[]"
   ]
  },
  {
   "cell_type": "code",
   "execution_count": 10,
   "id": "d67d07d7",
   "metadata": {},
   "outputs": [],
   "source": [
    "batsman=[\"Rohit\",\"Dhawan\",\"Kholi\",\"Dhoni\",\"Jadeja\",\"Hardhik\"]"
   ]
  },
  {
   "cell_type": "code",
   "execution_count": 11,
   "id": "04929b5e",
   "metadata": {},
   "outputs": [
    {
     "data": {
      "text/plain": [
       "'Dhoni'"
      ]
     },
     "execution_count": 11,
     "metadata": {},
     "output_type": "execute_result"
    }
   ],
   "source": [
    "batsman[3]"
   ]
  },
  {
   "cell_type": "code",
   "execution_count": 12,
   "id": "ebb7d185",
   "metadata": {},
   "outputs": [
    {
     "data": {
      "text/plain": [
       "['Rohit', 'Dhawan', 'Kholi']"
      ]
     },
     "execution_count": 12,
     "metadata": {},
     "output_type": "execute_result"
    }
   ],
   "source": [
    "#Slicing the list\n",
    "batsman[0:3]"
   ]
  },
  {
   "cell_type": "code",
   "execution_count": 13,
   "id": "ac4af051",
   "metadata": {},
   "outputs": [
    {
     "data": {
      "text/plain": [
       "'Hardhik'"
      ]
     },
     "execution_count": 13,
     "metadata": {},
     "output_type": "execute_result"
    }
   ],
   "source": [
    "#Accessing the last elements\n",
    "batsman[-1]"
   ]
  },
  {
   "cell_type": "code",
   "execution_count": 14,
   "id": "fefa3c6e",
   "metadata": {},
   "outputs": [
    {
     "data": {
      "text/plain": [
       "6"
      ]
     },
     "execution_count": 14,
     "metadata": {},
     "output_type": "execute_result"
    }
   ],
   "source": [
    "#How many elements in the list\n",
    "len(batsman)"
   ]
  },
  {
   "cell_type": "code",
   "execution_count": 16,
   "id": "ecfc0101",
   "metadata": {},
   "outputs": [
    {
     "data": {
      "text/plain": [
       "['Rohit',\n",
       " 'Dhawan',\n",
       " 'Kholi',\n",
       " 'Dhoni',\n",
       " 'Jadeja',\n",
       " 'Hardhik',\n",
       " 'Bumrah',\n",
       " 'Shami',\n",
       " 'Bhuvi',\n",
       " 'Kuldeep',\n",
       " 'Chahal']"
      ]
     },
     "execution_count": 16,
     "metadata": {},
     "output_type": "execute_result"
    }
   ],
   "source": [
    "#Two separate list can  be cocatenated into one using + operator\n",
    "bowlers=[\"Bumrah\",\"Shami\",\"Bhuvi\",\"Kuldeep\",\"Chahal\"]\n",
    "all_players=batsman+bowlers\n",
    "(all_players)"
   ]
  },
  {
   "cell_type": "code",
   "execution_count": 17,
   "id": "608f7d21",
   "metadata": {},
   "outputs": [
    {
     "data": {
      "text/plain": [
       "True"
      ]
     },
     "execution_count": 17,
     "metadata": {},
     "output_type": "execute_result"
    }
   ],
   "source": [
    "#Finding if an item exits in a list or not\n",
    "\"Shami\"in bowlers"
   ]
  },
  {
   "cell_type": "code",
   "execution_count": 18,
   "id": "bf4ff894",
   "metadata": {},
   "outputs": [
    {
     "data": {
      "text/plain": [
       "False"
      ]
     },
     "execution_count": 18,
     "metadata": {},
     "output_type": "execute_result"
    }
   ],
   "source": [
    "\"Dhoni\" in bowlers"
   ]
  },
  {
   "cell_type": "code",
   "execution_count": 20,
   "id": "a63b2567",
   "metadata": {},
   "outputs": [
    {
     "data": {
      "text/plain": [
       "3"
      ]
     },
     "execution_count": 20,
     "metadata": {},
     "output_type": "execute_result"
    }
   ],
   "source": [
    "#Finding the index of an item in the list\n",
    "all_players.index('Dhoni')"
   ]
  },
  {
   "cell_type": "markdown",
   "id": "3f86a034",
   "metadata": {},
   "source": [
    "#### The item in a list can be arranged in reverse order by calling reverse function in  the list\n"
   ]
  },
  {
   "cell_type": "code",
   "execution_count": null,
   "id": "45bebca2",
   "metadata": {},
   "outputs": [],
   "source": [
    "all_players.reverse()"
   ]
  },
  {
   "cell_type": "code",
   "execution_count": 22,
   "id": "b30c9ecd",
   "metadata": {},
   "outputs": [
    {
     "data": {
      "text/plain": [
       "['Chahal',\n",
       " 'Kuldeep',\n",
       " 'Bhuvi',\n",
       " 'Shami',\n",
       " 'Bumrah',\n",
       " 'Hardhik',\n",
       " 'Jadeja',\n",
       " 'Dhoni',\n",
       " 'Kholi',\n",
       " 'Dhawan',\n",
       " 'Rohit']"
      ]
     },
     "execution_count": 22,
     "metadata": {},
     "output_type": "execute_result"
    }
   ],
   "source": [
    "all_players"
   ]
  },
  {
   "cell_type": "markdown",
   "id": "aed3366d",
   "metadata": {},
   "source": [
    "### Tuples"
   ]
  },
  {
   "cell_type": "code",
   "execution_count": 23,
   "id": "52a4f014",
   "metadata": {},
   "outputs": [
    {
     "data": {
      "text/plain": [
       "('Dhoni', 2004)"
      ]
     },
     "execution_count": 23,
     "metadata": {},
     "output_type": "execute_result"
    }
   ],
   "source": [
    "odiDebut=('Dhoni',2004)\n",
    "odiDebut"
   ]
  },
  {
   "cell_type": "code",
   "execution_count": 24,
   "id": "dd4ed8e0",
   "metadata": {},
   "outputs": [
    {
     "data": {
      "text/plain": [
       "'Dhoni'"
      ]
     },
     "execution_count": 24,
     "metadata": {},
     "output_type": "execute_result"
    }
   ],
   "source": [
    "odiDebut[0]"
   ]
  },
  {
   "cell_type": "code",
   "execution_count": 25,
   "id": "abd82155",
   "metadata": {},
   "outputs": [
    {
     "data": {
      "text/plain": [
       "2004"
      ]
     },
     "execution_count": 25,
     "metadata": {},
     "output_type": "execute_result"
    }
   ],
   "source": [
    "odiDebut[1]"
   ]
  },
  {
   "cell_type": "code",
   "execution_count": 26,
   "id": "2e536a08",
   "metadata": {},
   "outputs": [],
   "source": [
    "Players=tuple(all_players)"
   ]
  },
  {
   "cell_type": "code",
   "execution_count": 27,
   "id": "6a0e55b6",
   "metadata": {},
   "outputs": [
    {
     "data": {
      "text/plain": [
       "('Chahal',\n",
       " 'Kuldeep',\n",
       " 'Bhuvi',\n",
       " 'Shami',\n",
       " 'Bumrah',\n",
       " 'Hardhik',\n",
       " 'Jadeja',\n",
       " 'Dhoni',\n",
       " 'Kholi',\n",
       " 'Dhawan',\n",
       " 'Rohit')"
      ]
     },
     "execution_count": 27,
     "metadata": {},
     "output_type": "execute_result"
    }
   ],
   "source": [
    "Players"
   ]
  },
  {
   "cell_type": "markdown",
   "id": "cc7bd9f7",
   "metadata": {},
   "source": [
    "### SET"
   ]
  },
  {
   "cell_type": "code",
   "execution_count": 28,
   "id": "53dab10d",
   "metadata": {},
   "outputs": [
    {
     "data": {
      "text/plain": [
       "{1, 2, 3, 4, 5, 6}"
      ]
     },
     "execution_count": 28,
     "metadata": {},
     "output_type": "execute_result"
    }
   ],
   "source": [
    "set_of_numbers={6,5,4,3,2,1}\n",
    "set_of_numbers"
   ]
  },
  {
   "cell_type": "code",
   "execution_count": 29,
   "id": "37a33447",
   "metadata": {},
   "outputs": [],
   "source": [
    "wc2011={'Dhoni','Sehwag','Tendulkar','Gambhir','Kohli','Raina','Yuvraj','Yusuf'}\n",
    "wc2015={'Dhoni','Dhawan','Rohit','Rahane','Kohli','Raina','Rayadu','jadeja'}"
   ]
  },
  {
   "cell_type": "code",
   "execution_count": 30,
   "id": "8322535e",
   "metadata": {},
   "outputs": [
    {
     "data": {
      "text/plain": [
       "{'Dhawan',\n",
       " 'Dhoni',\n",
       " 'Gambhir',\n",
       " 'Kohli',\n",
       " 'Rahane',\n",
       " 'Raina',\n",
       " 'Rayadu',\n",
       " 'Rohit',\n",
       " 'Sehwag',\n",
       " 'Tendulkar',\n",
       " 'Yusuf',\n",
       " 'Yuvraj',\n",
       " 'jadeja'}"
      ]
     },
     "execution_count": 30,
     "metadata": {},
     "output_type": "execute_result"
    }
   ],
   "source": [
    "#Find the list of all batsman who played in 2011 or 2015 worldcup,we can take union of the two sets\n",
    "wc2011.union(wc2015)"
   ]
  },
  {
   "cell_type": "code",
   "execution_count": 31,
   "id": "30b6b7bd",
   "metadata": {},
   "outputs": [
    {
     "data": {
      "text/plain": [
       "{'Dhoni', 'Kohli', 'Raina'}"
      ]
     },
     "execution_count": 31,
     "metadata": {},
     "output_type": "execute_result"
    }
   ],
   "source": [
    "wc2011.intersection(wc2015)"
   ]
  },
  {
   "cell_type": "code",
   "execution_count": 33,
   "id": "2ac0236d",
   "metadata": {},
   "outputs": [
    {
     "data": {
      "text/plain": [
       "{'Dhawan', 'Rahane', 'Rayadu', 'Rohit', 'jadeja'}"
      ]
     },
     "execution_count": 33,
     "metadata": {},
     "output_type": "execute_result"
    }
   ],
   "source": [
    "#If we need to find the new batsman who was not part of 2011 and included in 2015\n",
    "wc2015.difference(wc2011)"
   ]
  },
  {
   "cell_type": "markdown",
   "id": "2a24c622",
   "metadata": {},
   "source": [
    "### Dictionary"
   ]
  },
  {
   "cell_type": "code",
   "execution_count": 34,
   "id": "8d785c62",
   "metadata": {},
   "outputs": [],
   "source": [
    "wcWinners={1975:'West Indies',1979:'West Indies',1983:'India',1987:'Australia',1991:'Pakistan',1996:'Srilanka',\n",
    "          1999:'Australia',2003:'Australia',2007:'Australia',2011:'India',2015:'Australia',2019:'England'}"
   ]
  },
  {
   "cell_type": "code",
   "execution_count": 36,
   "id": "b81331bf",
   "metadata": {},
   "outputs": [
    {
     "data": {
      "text/plain": [
       "'Australia'"
      ]
     },
     "execution_count": 36,
     "metadata": {},
     "output_type": "execute_result"
    }
   ],
   "source": [
    "wcWinners[1987]"
   ]
  },
  {
   "cell_type": "code",
   "execution_count": 37,
   "id": "dd9ba4d8",
   "metadata": {},
   "outputs": [
    {
     "data": {
      "text/plain": [
       "dict_values(['West Indies', 'West Indies', 'India', 'Australia', 'Pakistan', 'Srilanka', 'Australia', 'Australia', 'Australia', 'India', 'Australia', 'England'])"
      ]
     },
     "execution_count": 37,
     "metadata": {},
     "output_type": "execute_result"
    }
   ],
   "source": [
    "#For a list winning countries\n",
    "wcWinners.values()"
   ]
  },
  {
   "cell_type": "code",
   "execution_count": 39,
   "id": "822338d2",
   "metadata": {},
   "outputs": [
    {
     "data": {
      "text/plain": [
       "{'Australia', 'England', 'India', 'Pakistan', 'Srilanka', 'West Indies'}"
      ]
     },
     "execution_count": 39,
     "metadata": {},
     "output_type": "execute_result"
    }
   ],
   "source": [
    "set(wcWinners.values())"
   ]
  },
  {
   "cell_type": "code",
   "execution_count": 40,
   "id": "6fa2120c",
   "metadata": {},
   "outputs": [
    {
     "data": {
      "text/plain": [
       "{1975: 'West Indies',\n",
       " 1979: 'West Indies',\n",
       " 1983: 'India',\n",
       " 1987: 'Australia',\n",
       " 1991: 'Pakistan',\n",
       " 1996: 'Srilanka',\n",
       " 1999: 'Australia',\n",
       " 2003: 'Australia',\n",
       " 2007: 'Australia',\n",
       " 2011: 'India',\n",
       " 2015: 'Australia',\n",
       " 2019: 'England'}"
      ]
     },
     "execution_count": 40,
     "metadata": {},
     "output_type": "execute_result"
    }
   ],
   "source": [
    "wcWinners"
   ]
  },
  {
   "cell_type": "markdown",
   "id": "2c2ba799",
   "metadata": {},
   "source": [
    "#### Dealing with string"
   ]
  },
  {
   "cell_type": "code",
   "execution_count": 43,
   "id": "d72630cb",
   "metadata": {},
   "outputs": [],
   "source": [
    "string0='python'\n",
    "string1=\"machine learning\"\n",
    "string2=\"\"\"This is Multiline String\"\"\""
   ]
  },
  {
   "cell_type": "code",
   "execution_count": 44,
   "id": "b619e1c9",
   "metadata": {},
   "outputs": [
    {
     "data": {
      "text/plain": [
       "'PYTHON'"
      ]
     },
     "execution_count": 44,
     "metadata": {},
     "output_type": "execute_result"
    }
   ],
   "source": [
    "#Converting to string0 to uppercase\n",
    "string0.upper()"
   ]
  },
  {
   "cell_type": "code",
   "execution_count": 45,
   "id": "936bd0a5",
   "metadata": {},
   "outputs": [
    {
     "data": {
      "text/plain": [
       "'machine learning'"
      ]
     },
     "execution_count": 45,
     "metadata": {},
     "output_type": "execute_result"
    }
   ],
   "source": [
    "#Similarly string1 into lower\n",
    "string1.lower()"
   ]
  },
  {
   "cell_type": "code",
   "execution_count": 46,
   "id": "f637a9b6",
   "metadata": {},
   "outputs": [],
   "source": [
    "#For slpiting the string\n",
    "tokens=string1.split(' ')"
   ]
  },
  {
   "cell_type": "code",
   "execution_count": 47,
   "id": "aa166587",
   "metadata": {},
   "outputs": [
    {
     "data": {
      "text/plain": [
       "['machine', 'learning']"
      ]
     },
     "execution_count": 47,
     "metadata": {},
     "output_type": "execute_result"
    }
   ],
   "source": [
    "tokens"
   ]
  },
  {
   "cell_type": "markdown",
   "id": "324f7f25",
   "metadata": {},
   "source": [
    "### Function programming"
   ]
  },
  {
   "cell_type": "code",
   "execution_count": 1,
   "id": "6a2d38fa",
   "metadata": {},
   "outputs": [
    {
     "name": "stdout",
     "output_type": "stream",
     "text": [
      "[1, 4, 9, 16, 25, 36, 49, 64, 81]\n"
     ]
    }
   ],
   "source": [
    "intlist=[1,2,3,4,5,6,7,8,9]\n",
    "#Create an empty list\n",
    "squarelist=[]\n",
    "#Loop through the intlist,square everytime and append the result\n",
    "for x in intlist:\n",
    "    squarelist.append(pow(x,2))\n",
    "print(squarelist)"
   ]
  },
  {
   "cell_type": "code",
   "execution_count": 5,
   "id": "644307b4",
   "metadata": {},
   "outputs": [
    {
     "data": {
      "text/plain": [
       "[1, 4, 9, 16, 25, 36, 49, 64, 81]"
      ]
     },
     "execution_count": 5,
     "metadata": {},
     "output_type": "execute_result"
    }
   ],
   "source": [
    "#define a fuction square_me that an integers and return the square value of it\n",
    "def square_me(x):\n",
    "    return x*x\n",
    "squarelist=map(square_me,intlist)\n",
    "list(squarelist)"
   ]
  },
  {
   "cell_type": "code",
   "execution_count": 6,
   "id": "2322fd5c",
   "metadata": {},
   "outputs": [],
   "source": [
    "#Example of filter\n",
    "evenInts=filter(lambda x: x%2==0,intlist)"
   ]
  },
  {
   "cell_type": "code",
   "execution_count": 7,
   "id": "256e82bb",
   "metadata": {},
   "outputs": [
    {
     "data": {
      "text/plain": [
       "[2, 4, 6, 8]"
      ]
     },
     "execution_count": 7,
     "metadata": {},
     "output_type": "execute_result"
    }
   ],
   "source": [
    "list(evenInts)"
   ]
  },
  {
   "cell_type": "markdown",
   "id": "51337f53",
   "metadata": {},
   "source": [
    "### Module and packages"
   ]
  },
  {
   "cell_type": "code",
   "execution_count": 8,
   "id": "0a5b69a4",
   "metadata": {},
   "outputs": [
    {
     "data": {
      "text/plain": [
       "4.0"
      ]
     },
     "execution_count": 8,
     "metadata": {},
     "output_type": "execute_result"
    }
   ],
   "source": [
    "import math\n",
    "#taking square root of a value\n",
    "math.sqrt(16)"
   ]
  },
  {
   "cell_type": "code",
   "execution_count": 9,
   "id": "0e2db3f2",
   "metadata": {},
   "outputs": [
    {
     "data": {
      "text/plain": [
       "[2, 7, 6]"
      ]
     },
     "execution_count": 9,
     "metadata": {},
     "output_type": "execute_result"
    }
   ],
   "source": [
    "from random import sample\n",
    "sample(range(0,11),3)"
   ]
  },
  {
   "cell_type": "code",
   "execution_count": 11,
   "id": "201c085d",
   "metadata": {},
   "outputs": [
    {
     "data": {
      "text/plain": [
       "[68, 20, 45, 91, 79, 16, 96, 10, 6, 19, 5, 13, 53, 3, 60, 52, 55, 46, 32, 27]"
      ]
     },
     "execution_count": 11,
     "metadata": {},
     "output_type": "execute_result"
    }
   ],
   "source": [
    "import random\n",
    "randomlist=random.sample(range(0,100),20)\n",
    "randomlist"
   ]
  },
  {
   "cell_type": "code",
   "execution_count": 12,
   "id": "8659bdd8",
   "metadata": {},
   "outputs": [],
   "source": [
    "from statistics import mean,median\n",
    "def getMeanAndMedian(listnum):\n",
    "    return mean(listnum),median(listnum)"
   ]
  },
  {
   "cell_type": "code",
   "execution_count": 13,
   "id": "81139f98",
   "metadata": {},
   "outputs": [
    {
     "name": "stdout",
     "output_type": "stream",
     "text": [
      "Mean: 39.8 Median: 38.5\n"
     ]
    }
   ],
   "source": [
    "mean,median=getMeanAndMedian(randomlist)\n",
    "print(\"Mean:\",mean,\"Median:\",median)"
   ]
  },
  {
   "cell_type": "code",
   "execution_count": null,
   "id": "88c146a6",
   "metadata": {},
   "outputs": [],
   "source": []
  }
 ],
 "metadata": {
  "kernelspec": {
   "display_name": "Python 3",
   "language": "python",
   "name": "python3"
  },
  "language_info": {
   "codemirror_mode": {
    "name": "ipython",
    "version": 3
   },
   "file_extension": ".py",
   "mimetype": "text/x-python",
   "name": "python",
   "nbconvert_exporter": "python",
   "pygments_lexer": "ipython3",
   "version": "3.6.8"
  }
 },
 "nbformat": 4,
 "nbformat_minor": 5
}
